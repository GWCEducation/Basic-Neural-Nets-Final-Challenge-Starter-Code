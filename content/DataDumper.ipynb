{
 "cells": [
  {
   "cell_type": "code",
   "execution_count": null,
   "id": "1ce78eac",
   "metadata": {},
   "outputs": [],
   "source": [
    "import matplotlib.pyplot as plt\n",
    "import numpy as np\n",
    "import pandas as pd\n",
    "\n",
    "df_train = pd.read_csv('sign_mnist_13bal_train.csv')\n",
    "# Label is in the first column\n",
    "y_train = df_train.iloc[:, 0]  \n",
    "# Features are in all other columns, normalized\n",
    "X_train = df_train.iloc[:, 1:] / 255.0  \n",
    "\n",
    "print(df_train)"
   ]
  }
 ],
 "metadata": {},
 "nbformat": 4,
 "nbformat_minor": 5
}
